{
 "cells": [
  {
   "cell_type": "code",
   "execution_count": 1,
   "id": "7b7ab2dd-07eb-46cf-aafe-39a777c4feb6",
   "metadata": {},
   "outputs": [
    {
     "data": {
      "image/png": "[encoded data removed]",
      "text/plain": [
       "<Figure size 432x576 with 3 Axes>"
      ]
     },
     "metadata": {
      "needs_background": "light"
     },
     "output_type": "display_data"
    }
   ],
   "source": [
    "import numpy as np\n",
    "import matplotlib.pyplot as plt\n",
    "import matplotlib.colors as mcolors\n",
    "\n",
    "# Create a figure and a set of subplots\n",
    "fig, axs = plt.subplots(3, 1, figsize=(6, 8))\n",
    "\n",
    "# Hue color bar\n",
    "hsv_hue = np.linspace(0, 1, 256).reshape(1, -1, 1)\n",
    "hsv_hue_rgb = mcolors.hsv_to_rgb(np.concatenate([hsv_hue, np.ones_like(hsv_hue), np.ones_like(hsv_hue)], 2))\n",
    "axs[0].imshow(hsv_hue_rgb, aspect='auto')\n",
    "axs[0].set_title('Hue')\n",
    "\n",
    "# Saturation color bar\n",
    "hsv_saturation = np.linspace(0, 1, 256).reshape(1, -1, 1)\n",
    "hsv_saturation_rgb = mcolors.hsv_to_rgb(np.concatenate([np.ones_like(hsv_saturation) * 0.5, hsv_saturation, np.ones_like(hsv_saturation)], 2))\n",
    "axs[1].imshow(hsv_saturation_rgb, aspect='auto')\n",
    "axs[1].set_title('Saturation')\n",
    "\n",
    "# Value color bar\n",
    "hsv_value = np.linspace(0, 1, 256).reshape(1, -1, 1)\n",
    "hsv_value_rgb = mcolors.hsv_to_rgb(np.concatenate([np.ones_like(hsv_value) * 0.5, np.ones_like(hsv_value), hsv_value], 2))\n",
    "axs[2].imshow(hsv_value_rgb, aspect='auto')\n",
    "axs[2].set_title('Value')\n",
    "\n",
    "# Set space between subplots\n",
    "plt.tight_layout()\n",
    "\n",
    "# Display the plot\n",
    "plt.show()"
   ]
  },
  {
   "cell_type": "code",
   "execution_count": 5,
   "id": "b099d662-1df7-4377-946c-948d40b2e019",
   "metadata": {},
   "outputs": [],
   "source": [
    "import json\n",
    "import pandas as pd\n",
    "\n",
    "CO_NUMS = list(range(1, 18))\n",
    "EX_NUMS = list(range(1, 18))\n",
    "co_json_datas = []\n",
    "ex_json_datas = []\n",
    "for name in CO_NUMS:\n",
    "    with open('./CO/' + str(name) + '/data.json', 'r') as json_file:\n",
    "        data = json.load(json_file)\n",
    "    co_json_datas.append(data)\n",
    "for name in EX_NUMS:\n",
    "    with open('./EX/' + str(name) + '/data.json', 'r') as json_file:\n",
    "        data = json.load(json_file)\n",
    "    ex_json_datas.append(data)\n",
    "output_data = {'Pid': [], 'Group': [],'Mental1': [],'Physical1': [],'Temporal1': [],'Performance1': [],'Effort1': [],'Frustration1': [],\n",
    "           'Mental2': [], 'Physical2': [],'Temporal2': [],'Performance2': [],'Effort2': [],'Frustration2': []}\n",
    "for idx, data in enumerate(ex_json_datas):\n",
    "    output_data['Pid'].append(idx)\n",
    "    output_data['Group'].append(0)\n",
    "    output_data['Mental1'].append(data[\"nasa_1\"][0])\n",
    "    output_data['Physical1'].append(data[\"nasa_1\"][1])\n",
    "    output_data['Temporal1'].append(data[\"nasa_1\"][2])\n",
    "    output_data['Performance1'].append(data[\"nasa_1\"][3])\n",
    "    output_data['Effort1'].append(data[\"nasa_1\"][4])\n",
    "    output_data['Frustration1'].append(data[\"nasa_1\"][5])\n",
    "    output_data['Mental2'].append(data[\"nasa_2\"][0])\n",
    "    output_data['Physical2'].append(data[\"nasa_2\"][1])\n",
    "    output_data['Temporal2'].append(data[\"nasa_2\"][2])\n",
    "    output_data['Performance2'].append(data[\"nasa_2\"][3])\n",
    "    output_data['Effort2'].append(data[\"nasa_2\"][4])\n",
    "    output_data['Frustration2'].append(data[\"nasa_2\"][5])\n",
    "for idx, data in enumerate(co_json_datas):\n",
    "    output_data['Pid'].append(idx + len(EX_NUMS))\n",
    "    output_data['Group'].append(1)\n",
    "    output_data['Mental1'].append(data[\"nasa_1\"][0])\n",
    "    output_data['Physical1'].append(data[\"nasa_1\"][1])\n",
    "    output_data['Temporal1'].append(data[\"nasa_1\"][2])\n",
    "    output_data['Performance1'].append(data[\"nasa_1\"][3])\n",
    "    output_data['Effort1'].append(data[\"nasa_1\"][4])\n",
    "    output_data['Frustration1'].append(data[\"nasa_1\"][5])\n",
    "    output_data['Mental2'].append(data[\"nasa_2\"][0])\n",
    "    output_data['Physical2'].append(data[\"nasa_2\"][1])\n",
    "    output_data['Temporal2'].append(data[\"nasa_2\"][2])\n",
    "    output_data['Performance2'].append(data[\"nasa_2\"][3])\n",
    "    output_data['Effort2'].append(data[\"nasa_2\"][4])\n",
    "    output_data['Frustration2'].append(data[\"nasa_2\"][5])\n",
    "\n",
    "pd.DataFrame(output_data).to_csv(\"NASA.csv\")"
   ]
  },
  {
   "cell_type": "code",
   "execution_count": null,
   "id": "63c153c0-f445-4b1b-aea9-0d45b9dfc0d2",
   "metadata": {},
   "outputs": [],
   "source": []
  }
 ],
 "metadata": {
  "kernelspec": {
   "display_name": "Python 3",
   "language": "python",
   "name": "python3"
  },
  "language_info": {
   "codemirror_mode": {
    "name": "ipython",
    "version": 3
   },
   "file_extension": ".py",
   "mimetype": "text/x-python",
   "name": "python",
   "nbconvert_exporter": "python",
   "pygments_lexer": "ipython3",
   "version": "3.9.15"
  }
 },
 "nbformat": 4,
 "nbformat_minor": 5
}
