{
 "cells": [
  {
   "cell_type": "code",
   "execution_count": 1,
   "id": "59edf917-a44c-417b-b62e-bc3cb6d154c5",
   "metadata": {},
   "outputs": [
    {
     "name": "stdout",
     "output_type": "stream",
     "text": [
      "3\n",
      "3\n"
     ]
    }
   ],
   "source": [
    "import pandas as pd\n",
    "import matplotlib.pyplot as plt\n",
    "# 读取 CSV 文件\n",
    "df_EX = pd.read_csv(\"./EX/spatial.csv\", skip_blank_lines=False)\n",
    "df_CO = pd.read_csv(\"./CO/spatial.csv\", skip_blank_lines=False)\n",
    "\n",
    "# 找到空行的索引\n",
    "blank_line_indices_ex = df_EX.index[df_EX.isnull().all(1)]\n",
    "blank_line_indices_co = df_CO.index[df_CO.isnull().all(1)]\n",
    "\n",
    "# 初始化三个空的 DataFrame\n",
    "dataframes_ex = []\n",
    "start_idx_ex = 0\n",
    "\n",
    "dataframes_co = []\n",
    "start_idx_co = 0\n",
    "\n",
    "\n",
    "# 根据空行的索引将数据分割成三个 DataFrame\n",
    "for idx in blank_line_indices_ex:\n",
    "    dataframes_ex.append(df_EX.iloc[start_idx_ex:idx])\n",
    "    start_idx_ex = idx + 1\n",
    "\n",
    "for idx in blank_line_indices_co:\n",
    "    dataframes_co.append(df_CO.iloc[start_idx_co:idx])\n",
    "    start_idx_co = idx + 1\n",
    "    \n",
    "# 处理最后一个部分（如果有剩余的数据）\n",
    "if start_idx_ex < len(df_EX):\n",
    "    dataframes_ex.append(df_EX.iloc[start_idx_ex:])\n",
    "if start_idx_co < len(df_CO):\n",
    "    dataframes_co.append(df_CO.iloc[start_idx_co:])\n",
    "print(len(dataframes_ex))\n",
    "print(len(dataframes_co))"
   ]
  },
  {
   "cell_type": "code",
   "execution_count": 2,
   "id": "ec4bbd8f-c75b-4548-ae68-c0f04dac6e7d",
   "metadata": {},
   "outputs": [
    {
     "name": "stdout",
     "output_type": "stream",
     "text": [
      "STATS for experiment units: \n",
      "BLOCK  1\n",
      "TYPE\n",
      "0.0    0.906015\n",
      "1.0    0.244048\n",
      "dtype: float64\n",
      "BLOCK  2\n",
      "TYPE\n",
      "0.0    0.561224\n",
      "1.0    0.826531\n",
      "dtype: float64\n",
      "BLOCK  3\n",
      "TYPE\n",
      "0.0    0.857143\n",
      "1.0    0.669643\n",
      "dtype: float64\n",
      "Overall avg: \n",
      "TYPE\n",
      "0.0    0.814516\n",
      "1.0    0.607843\n",
      "dtype: float64\n"
     ]
    }
   ],
   "source": [
    "print(\"STATS for experiment units: \")\n",
    "for idx, df in enumerate(dataframes_ex):\n",
    "    # 根据 \"type\" 列进行分组\n",
    "    df[\"TYPE\"].astype(int)\n",
    "    df[\"TYPE\"].astype(str)\n",
    "\n",
    "    grouped = df.groupby(\"TYPE\")\n",
    "    \n",
    "    # 提取列名为 \"1~12\" 的列\n",
    "    columns_to_average = [str(i) for i in range(1, 15)]\n",
    "\n",
    "    # 计算每个分组中 \"1~12\" 列的平均值\n",
    "    averages = grouped[columns_to_average].mean().mean(axis=1)\n",
    "    print(\"BLOCK \", idx + 1)\n",
    "    print(averages)\n",
    "columns_to_average = [str(i) for i in range(1, 13)]\n",
    "merged_df_ex = pd.concat(dataframes_ex, ignore_index=True)\n",
    "grouped_ex = merged_df_ex.groupby(\"TYPE\")\n",
    "avg_frame_ex = grouped_ex[columns_to_average].mean()\n",
    "avg_ex = avg_frame_ex.mean(axis=1)\n",
    "print(\"Overall avg: \")\n",
    "print(avg_ex)"
   ]
  },
  {
   "cell_type": "code",
   "execution_count": 3,
   "id": "f50aa782-bfaf-49ad-a676-6bf6d65a588c",
   "metadata": {},
   "outputs": [
    {
     "name": "stdout",
     "output_type": "stream",
     "text": [
      "STATS for control units: \n",
      "BLOCK  1\n"
     ]
    },
    {
     "name": "stderr",
     "output_type": "stream",
     "text": [
      "<ipython-input-3-c9e719743ccc>:4: SettingWithCopyWarning: \n",
      "A value is trying to be set on a copy of a slice from a DataFrame.\n",
      "Try using .loc[row_indexer,col_indexer] = value instead\n",
      "\n",
      "See the caveats in the documentation: https://pandas.pydata.org/pandas-docs/stable/user_guide/indexing.html#returning-a-view-versus-a-copy\n",
      "  df[\"TYPE\"] = df[\"TYPE\"].astype(int)\n",
      "<ipython-input-3-c9e719743ccc>:5: SettingWithCopyWarning: \n",
      "A value is trying to be set on a copy of a slice from a DataFrame.\n",
      "Try using .loc[row_indexer,col_indexer] = value instead\n",
      "\n",
      "See the caveats in the documentation: https://pandas.pydata.org/pandas-docs/stable/user_guide/indexing.html#returning-a-view-versus-a-copy\n",
      "  df[\"TYPE\"] = df[\"TYPE\"].astype(str)\n"
     ]
    },
    {
     "ename": "KeyError",
     "evalue": "\"Columns not found: '14', '15', '17', '16', '12', '13'\"",
     "output_type": "error",
     "traceback": [
      "\u001b[0;31m---------------------------------------------------------------------------\u001b[0m",
      "\u001b[0;31mKeyError\u001b[0m                                  Traceback (most recent call last)",
      "Cell \u001b[0;32mIn[3], line 11\u001b[0m\n\u001b[1;32m      9\u001b[0m     \u001b[38;5;28mprint\u001b[39m(\u001b[38;5;124m\"\u001b[39m\u001b[38;5;124mBLOCK \u001b[39m\u001b[38;5;124m\"\u001b[39m, idx \u001b[38;5;241m+\u001b[39m \u001b[38;5;241m1\u001b[39m)\n\u001b[1;32m     10\u001b[0m     \u001b[38;5;66;03m# 计算每个分组中 \"1~12\" 列的平均值\u001b[39;00m\n\u001b[0;32m---> 11\u001b[0m     averages \u001b[38;5;241m=\u001b[39m \u001b[43mgrouped\u001b[49m\u001b[43m[\u001b[49m\u001b[43mcolumns_to_average\u001b[49m\u001b[43m]\u001b[49m\u001b[38;5;241m.\u001b[39mmean()\u001b[38;5;241m.\u001b[39mmean(axis\u001b[38;5;241m=\u001b[39m\u001b[38;5;241m1\u001b[39m)\n\u001b[1;32m     12\u001b[0m     \u001b[38;5;28mprint\u001b[39m(averages)\n\u001b[1;32m     13\u001b[0m columns_to_average \u001b[38;5;241m=\u001b[39m [\u001b[38;5;28mstr\u001b[39m(i) \u001b[38;5;28;01mfor\u001b[39;00m i \u001b[38;5;129;01min\u001b[39;00m \u001b[38;5;28mrange\u001b[39m(\u001b[38;5;241m1\u001b[39m, \u001b[38;5;241m11\u001b[39m)]\n",
      "File \u001b[0;32m~/miniconda3/lib/python3.9/site-packages/pandas/core/groupby/generic.py:1771\u001b[0m, in \u001b[0;36mDataFrameGroupBy.__getitem__\u001b[0;34m(self, key)\u001b[0m\n\u001b[1;32m   1764\u001b[0m \u001b[38;5;28;01mif\u001b[39;00m \u001b[38;5;28misinstance\u001b[39m(key, \u001b[38;5;28mtuple\u001b[39m) \u001b[38;5;129;01mand\u001b[39;00m \u001b[38;5;28mlen\u001b[39m(key) \u001b[38;5;241m>\u001b[39m \u001b[38;5;241m1\u001b[39m:\n\u001b[1;32m   1765\u001b[0m     \u001b[38;5;66;03m# if len == 1, then it becomes a SeriesGroupBy and this is actually\u001b[39;00m\n\u001b[1;32m   1766\u001b[0m     \u001b[38;5;66;03m# valid syntax, so don't raise\u001b[39;00m\n\u001b[1;32m   1767\u001b[0m     \u001b[38;5;28;01mraise\u001b[39;00m \u001b[38;5;167;01mValueError\u001b[39;00m(\n\u001b[1;32m   1768\u001b[0m         \u001b[38;5;124m\"\u001b[39m\u001b[38;5;124mCannot subset columns with a tuple with more than one element. \u001b[39m\u001b[38;5;124m\"\u001b[39m\n\u001b[1;32m   1769\u001b[0m         \u001b[38;5;124m\"\u001b[39m\u001b[38;5;124mUse a list instead.\u001b[39m\u001b[38;5;124m\"\u001b[39m\n\u001b[1;32m   1770\u001b[0m     )\n\u001b[0;32m-> 1771\u001b[0m \u001b[38;5;28;01mreturn\u001b[39;00m \u001b[38;5;28;43msuper\u001b[39;49m\u001b[43m(\u001b[49m\u001b[43m)\u001b[49m\u001b[38;5;241;43m.\u001b[39;49m\u001b[38;5;21;43m__getitem__\u001b[39;49m\u001b[43m(\u001b[49m\u001b[43mkey\u001b[49m\u001b[43m)\u001b[49m\n",
      "File \u001b[0;32m~/miniconda3/lib/python3.9/site-packages/pandas/core/base.py:239\u001b[0m, in \u001b[0;36mSelectionMixin.__getitem__\u001b[0;34m(self, key)\u001b[0m\n\u001b[1;32m    237\u001b[0m     \u001b[38;5;28;01mif\u001b[39;00m \u001b[38;5;28mlen\u001b[39m(\u001b[38;5;28mself\u001b[39m\u001b[38;5;241m.\u001b[39mobj\u001b[38;5;241m.\u001b[39mcolumns\u001b[38;5;241m.\u001b[39mintersection(key)) \u001b[38;5;241m!=\u001b[39m \u001b[38;5;28mlen\u001b[39m(\u001b[38;5;28mset\u001b[39m(key)):\n\u001b[1;32m    238\u001b[0m         bad_keys \u001b[38;5;241m=\u001b[39m \u001b[38;5;28mlist\u001b[39m(\u001b[38;5;28mset\u001b[39m(key)\u001b[38;5;241m.\u001b[39mdifference(\u001b[38;5;28mself\u001b[39m\u001b[38;5;241m.\u001b[39mobj\u001b[38;5;241m.\u001b[39mcolumns))\n\u001b[0;32m--> 239\u001b[0m         \u001b[38;5;28;01mraise\u001b[39;00m \u001b[38;5;167;01mKeyError\u001b[39;00m(\u001b[38;5;124mf\u001b[39m\u001b[38;5;124m\"\u001b[39m\u001b[38;5;124mColumns not found: \u001b[39m\u001b[38;5;132;01m{\u001b[39;00m\u001b[38;5;28mstr\u001b[39m(bad_keys)[\u001b[38;5;241m1\u001b[39m:\u001b[38;5;241m-\u001b[39m\u001b[38;5;241m1\u001b[39m]\u001b[38;5;132;01m}\u001b[39;00m\u001b[38;5;124m\"\u001b[39m)\n\u001b[1;32m    240\u001b[0m     \u001b[38;5;28;01mreturn\u001b[39;00m \u001b[38;5;28mself\u001b[39m\u001b[38;5;241m.\u001b[39m_gotitem(\u001b[38;5;28mlist\u001b[39m(key), ndim\u001b[38;5;241m=\u001b[39m\u001b[38;5;241m2\u001b[39m)\n\u001b[1;32m    242\u001b[0m \u001b[38;5;28;01melse\u001b[39;00m:\n",
      "\u001b[0;31mKeyError\u001b[0m: \"Columns not found: '14', '15', '17', '16', '12', '13'\""
     ]
    }
   ],
   "source": [
    "print(\"STATS for control units: \")\n",
    "for idx, df in enumerate(dataframes_co):\n",
    "    # 根据 \"type\" 列进行分组\n",
    "    df[\"TYPE\"] = df[\"TYPE\"].astype(int)\n",
    "    df[\"TYPE\"] = df[\"TYPE\"].astype(str)\n",
    "    grouped = df.groupby(\"TYPE\")\n",
    "    # 提取列名为 \"1~12\" 的列\n",
    "    columns_to_average = [str(i) for i in range(1, 18)]\n",
    "    print(\"BLOCK \", idx + 1)\n",
    "    # 计算每个分组中 \"1~12\" 列的平均值\n",
    "    averages = grouped[columns_to_average].mean().mean(axis=1)\n",
    "    print(averages)\n",
    "columns_to_average = [str(i) for i in range(1, 11)]\n",
    "merged_df_co = pd.concat(dataframes_co, ignore_index=True)\n",
    "grouped_co = merged_df_co.groupby(\"TYPE\")\n",
    "avg_frame_co = grouped_co[columns_to_average].mean()\n",
    "avg_co = avg_frame_co.mean(axis=1)\n",
    "print(\"Overall avg: \")\n",
    "print(avg_co)"
   ]
  },
  {
   "cell_type": "code",
   "execution_count": null,
   "id": "b73afc6a-2dbb-4a66-acd4-b726ca32ed16",
   "metadata": {},
   "outputs": [],
   "source": [
    "avg_frame_ex.index = avg_frame_ex.index.map(lambda x: str(int(x)) + \"_EX\")\n",
    "avg_frame_co.index = avg_frame_co.index.map(lambda x: str(int(x)) + \"_CO\")\n",
    "avg_frame_ex = avg_frame_ex.T\n",
    "avg_frame_co = avg_frame_co.T\n",
    "\n",
    "# 绘制箱线图\n",
    "plt.figure(figsize=(10, 6))\n",
    "\n",
    "# 绘制 frame1 的箱线图\n",
    "plt.subplot(1, 2, 1)\n",
    "avg_frame_ex.boxplot()\n",
    "plt.ylim(0, 1.3)\n",
    "plt.title(\"Experiment group\")\n",
    "\n",
    "# 绘制 frame2 的箱线图\n",
    "plt.subplot(1, 2, 2)\n",
    "avg_frame_co.boxplot()\n",
    "plt.ylim(0, 1.3)\n",
    "plt.title(\"Control group\")\n",
    "\n",
    "plt.tight_layout()\n",
    "plt.show()"
   ]
  },
  {
   "cell_type": "code",
   "execution_count": null,
   "id": "fac5745d-a2e5-492f-9381-a968b16350fc",
   "metadata": {},
   "outputs": [],
   "source": [
    "\n",
    "\n",
    "import numpy as np\n",
    "from scipy.stats import levene, bartlett\n",
    "\n",
    "# 假设你有多个样本组，存储在 sample1, sample2, sample3 等数组中\n",
    "\n",
    "# 进行方差齐性检验\n",
    "# 使用 Levene's test\n",
    "levene_test_statistic, levene_p_value = levene(avg_frame_co[\"0_CO\"].tolist(), avg_frame_ex[\"0_EX\"].tolist())\n",
    "\n",
    "# 使用 Bartlett's test\n",
    "bartlett_test_statistic, bartlett_p_value = bartlett(avg_frame_co[\"0_CO\"].tolist(), avg_frame_ex[\"0_EX\"].tolist())\n",
    "\n",
    "# 打印检验结果\n",
    "print(\"Levene's Test:\")\n",
    "print(f\"Test Statistic: {levene_test_statistic}\")\n",
    "print(f\"P-value: {levene_p_value}\")\n",
    "print()\n",
    "\n",
    "print(\"Bartlett's Test:\")\n",
    "print(f\"Test Statistic: {bartlett_test_statistic}\")\n",
    "print(f\"P-value: {bartlett_p_value}\")"
   ]
  },
  {
   "cell_type": "code",
   "execution_count": null,
   "id": "e3424481-4767-493f-adcd-f405ed9cdff8",
   "metadata": {},
   "outputs": [],
   "source": [
    "import numpy as np\n",
    "from scipy.stats import levene, bartlett\n",
    "\n",
    "# 假设你有多个样本组，存储在 sample1, sample2, sample3 等数组中\n",
    "\n",
    "# 进行方差齐性检验\n",
    "# 使用 Levene's test\n",
    "levene_test_statistic, levene_p_value = levene(avg_frame_co[\"1_CO\"].tolist(), avg_frame_ex[\"1_EX\"].tolist())\n",
    "\n",
    "# 使用 Bartlett's test\n",
    "bartlett_test_statistic, bartlett_p_value = bartlett(avg_frame_co[\"1_CO\"].tolist(), avg_frame_ex[\"1_EX\"].tolist())\n",
    "\n",
    "# 打印检验结果\n",
    "print(\"Levene's Test:\")\n",
    "print(f\"Test Statistic: {levene_test_statistic}\")\n",
    "print(f\"P-value: {levene_p_value}\")\n",
    "print()\n",
    "\n",
    "print(\"Bartlett's Test:\")\n",
    "print(f\"Test Statistic: {bartlett_test_statistic}\")\n",
    "print(f\"P-value: {bartlett_p_value}\")"
   ]
  },
  {
   "cell_type": "code",
   "execution_count": null,
   "id": "79ce1c00-5991-42fe-b830-3fbc710dc943",
   "metadata": {},
   "outputs": [],
   "source": [
    "import numpy as np\n",
    "from scipy.stats import ttest_ind\n",
    "\n",
    "# 假设你有两个独立的样本组，存储在 sample1 和 sample2 中\n",
    "\n",
    "# 执行独立样本 t 检验\n",
    "t_statistic, p_value = ttest_ind(avg_frame_co[\"0_CO\"].tolist(), avg_frame_ex[\"0_EX\"].tolist())\n",
    "\n",
    "# 打印检验结果\n",
    "print(\"Independent Samples t-test:\")\n",
    "print(f\"t-statistic: {t_statistic}\")\n",
    "print(f\"P-value: {p_value}\")\n",
    "\n",
    "# 根据 P 值判断是否存在显著差异\n",
    "alpha = 0.05  # 显著性水平\n",
    "if p_value < alpha:\n",
    "    print(\"存在显著差异\")\n",
    "else:\n",
    "    print(\"不存在显著差异\")"
   ]
  },
  {
   "cell_type": "code",
   "execution_count": null,
   "id": "0794fecd-735d-4339-89a4-ac6c96f84daf",
   "metadata": {},
   "outputs": [],
   "source": [
    "from scipy.stats import mannwhitneyu\n",
    "\n",
    "# 假设你有两个独立的样本组，存储在 sample1 和 sample2 中\n",
    "\n",
    "# 执行 Mann-Whitney U 检验\n",
    "statistic, p_value = mannwhitneyu(avg_frame_co[\"1_CO\"].tolist(), avg_frame_ex[\"1_EX\"].tolist(), alternative='two-sided')\n",
    "\n",
    "# 打印检验结果\n",
    "print(\"Mann-Whitney U Test:\")\n",
    "print(f\"Test Statistic: {statistic}\")\n",
    "print(f\"P-value: {p_value}\")\n",
    "\n",
    "# 根据 P 值判断是否存在显著差异\n",
    "alpha = 0.05  # 显著性水平\n",
    "if p_value < alpha:\n",
    "    print(\"存在显著差异\")\n",
    "else:\n",
    "    print(\"不存在显著差异\")"
   ]
  },
  {
   "cell_type": "code",
   "execution_count": null,
   "id": "6a180468-0c0b-4dd3-a809-32071e2cdbc4",
   "metadata": {},
   "outputs": [],
   "source": []
  }
 ],
 "metadata": {
  "kernelspec": {
   "display_name": "Python 3",
   "language": "python",
   "name": "python3"
  },
  "language_info": {
   "codemirror_mode": {
    "name": "ipython",
    "version": 3
   },
   "file_extension": ".py",
   "mimetype": "text/x-python",
   "name": "python",
   "nbconvert_exporter": "python",
   "pygments_lexer": "ipython3",
   "version": "3.9.15"
  }
 },
 "nbformat": 4,
 "nbformat_minor": 5
}
