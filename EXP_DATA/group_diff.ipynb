{
 "cells": [
  {
   "cell_type": "code",
   "execution_count": 1,
   "id": "7c1b457c-865b-4519-8fa2-ab0af2cda153",
   "metadata": {},
   "outputs": [],
   "source": [
    "import json\n",
    "CO_NUMS = list(range(1, 18))\n",
    "EX_NUMS = list(range(1, 15))\n",
    "co_datas = []\n",
    "ex_datas = []\n",
    "for name in CO_NUMS:\n",
    "    with open('./CO/' + str(name) + '/data.json', 'r') as json_file:\n",
    "        data = json.load(json_file)\n",
    "    co_datas.append(data)\n",
    "for name in EX_NUMS:\n",
    "    with open('./EX/' + str(name) + '/data.json', 'r') as json_file:\n",
    "        data = json.load(json_file)\n",
    "    ex_datas.append(data)\n"
   ]
  },
  {
   "cell_type": "code",
   "execution_count": 2,
   "id": "10bf8564-f993-42e3-86c9-cd2c24ada237",
   "metadata": {},
   "outputs": [
    {
     "name": "stdout",
     "output_type": "stream",
     "text": [
      "2.5294117647058822\n",
      "3.7142857142857144\n"
     ]
    }
   ],
   "source": [
    "import numpy as np\n",
    "co_familiar = []\n",
    "ex_familiar = []\n",
    "for item in co_datas:\n",
    "    co_familiar.append(item['post'][0])\n",
    "for item in ex_datas:\n",
    "    ex_familiar.append(item['post'][0])\n",
    "print(np.mean(co_familiar))\n",
    "print(np.mean(ex_familiar))"
   ]
  },
  {
   "cell_type": "code",
   "execution_count": 3,
   "id": "7caed5da-192f-4e17-b349-34cd8330341d",
   "metadata": {},
   "outputs": [
    {
     "name": "stdout",
     "output_type": "stream",
     "text": [
      "Levene's Test:\n",
      "Test Statistic: 0.8368213243441477\n",
      "P-value: 0.3678514256501815\n",
      "\n",
      "Bartlett's Test:\n",
      "Test Statistic: 0.7341150610838801\n",
      "P-value: 0.3915525803155623\n"
     ]
    }
   ],
   "source": [
    "import numpy as np\n",
    "from scipy.stats import levene, bartlett\n",
    "\n",
    "# 假设你有多个样本组，存储在 sample1, sample2, sample3 等数组中\n",
    "\n",
    "# 进行方差齐性检验\n",
    "# 使用 Levene's test\n",
    "levene_test_statistic, levene_p_value = levene(co_familiar, ex_familiar)\n",
    "\n",
    "# 使用 Bartlett's test\n",
    "bartlett_test_statistic, bartlett_p_value = bartlett(co_familiar, ex_familiar)\n",
    "\n",
    "# 打印检验结果\n",
    "print(\"Levene's Test:\")\n",
    "print(f\"Test Statistic: {levene_test_statistic}\")\n",
    "print(f\"P-value: {levene_p_value}\")\n",
    "print()\n",
    "\n",
    "print(\"Bartlett's Test:\")\n",
    "print(f\"Test Statistic: {bartlett_test_statistic}\")\n",
    "print(f\"P-value: {bartlett_p_value}\")"
   ]
  },
  {
   "cell_type": "code",
   "execution_count": 4,
   "id": "51359aad-6f33-4767-b525-17823f503e02",
   "metadata": {},
   "outputs": [
    {
     "name": "stdout",
     "output_type": "stream",
     "text": [
      "Mann-Whitney U Test:\n",
      "Test Statistic: 78.5\n",
      "P-value: 0.10437023619972746\n",
      "不存在显著差异\n"
     ]
    }
   ],
   "source": [
    "from scipy.stats import mannwhitneyu\n",
    "\n",
    "# 假设你有两个独立的样本组，存储在 sample1 和 sample2 中\n",
    "\n",
    "# 执行 Mann-Whitney U 检验\n",
    "statistic, p_value = mannwhitneyu(co_familiar, ex_familiar, alternative='two-sided')\n",
    "\n",
    "# 打印检验结果\n",
    "print(\"Mann-Whitney U Test:\")\n",
    "print(f\"Test Statistic: {statistic}\")\n",
    "print(f\"P-value: {p_value}\")\n",
    "\n",
    "# 根据 P 值判断是否存在显著差异\n",
    "alpha = 0.05  # 显著性水平\n",
    "if p_value < alpha:\n",
    "    print(\"存在显著差异\")\n",
    "else:\n",
    "    print(\"不存在显著差异\")"
   ]
  },
  {
   "cell_type": "code",
   "execution_count": null,
   "id": "9157492c-b7a1-4b83-8c95-fc289b3e7e17",
   "metadata": {},
   "outputs": [],
   "source": []
  }
 ],
 "metadata": {
  "kernelspec": {
   "display_name": "Python 3",
   "language": "python",
   "name": "python3"
  },
  "language_info": {
   "codemirror_mode": {
    "name": "ipython",
    "version": 3
   },
   "file_extension": ".py",
   "mimetype": "text/x-python",
   "name": "python",
   "nbconvert_exporter": "python",
   "pygments_lexer": "ipython3",
   "version": "3.9.15"
  }
 },
 "nbformat": 4,
 "nbformat_minor": 5
}
