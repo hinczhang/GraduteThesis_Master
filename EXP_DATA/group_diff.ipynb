{
 "cells": [
  {
   "cell_type": "code",
   "execution_count": 3,
   "id": "7c1b457c-865b-4519-8fa2-ab0af2cda153",
   "metadata": {},
   "outputs": [
    {
     "ename": "FileNotFoundError",
     "evalue": "[Errno 2] No such file or directory: 'D:\\\\GraduteThesis_Master\\\\EXP_DATA\\\\CO\\\\1\\\\data.json'",
     "output_type": "error",
     "traceback": [
      "\u001b[0;31m---------------------------------------------------------------------------\u001b[0m",
      "\u001b[0;31mFileNotFoundError\u001b[0m                         Traceback (most recent call last)",
      "Cell \u001b[0;32mIn[3], line 7\u001b[0m\n\u001b[1;32m      5\u001b[0m ex_datas \u001b[39m=\u001b[39m []\n\u001b[1;32m      6\u001b[0m \u001b[39mfor\u001b[39;00m name \u001b[39min\u001b[39;00m CO_NUMS:\n\u001b[0;32m----> 7\u001b[0m     \u001b[39mwith\u001b[39;00m \u001b[39mopen\u001b[39;49m(\u001b[39m'\u001b[39;49m\u001b[39mD:\u001b[39;49m\u001b[39m\\\\\u001b[39;49;00m\u001b[39mGraduteThesis_Master\u001b[39;49m\u001b[39m\\\\\u001b[39;49;00m\u001b[39mEXP_DATA\u001b[39;49m\u001b[39m\\\\\u001b[39;49;00m\u001b[39mCO\u001b[39;49m\u001b[39m\\\\\u001b[39;49;00m\u001b[39m'\u001b[39;49m \u001b[39m+\u001b[39;49m \u001b[39mstr\u001b[39;49m(name) \u001b[39m+\u001b[39;49m \u001b[39m'\u001b[39;49m\u001b[39m\\\\\u001b[39;49;00m\u001b[39mdata.json\u001b[39;49m\u001b[39m'\u001b[39;49m, \u001b[39m'\u001b[39;49m\u001b[39mr\u001b[39;49m\u001b[39m'\u001b[39;49m) \u001b[39mas\u001b[39;00m json_file:\n\u001b[1;32m      8\u001b[0m         data \u001b[39m=\u001b[39m json\u001b[39m.\u001b[39mload(json_file)\n\u001b[1;32m      9\u001b[0m     co_datas\u001b[39m.\u001b[39mappend(data)\n",
      "File \u001b[0;32m~/miniconda3/lib/python3.9/site-packages/IPython/core/interactiveshell.py:282\u001b[0m, in \u001b[0;36m_modified_open\u001b[0;34m(file, *args, **kwargs)\u001b[0m\n\u001b[1;32m    275\u001b[0m \u001b[39mif\u001b[39;00m file \u001b[39min\u001b[39;00m {\u001b[39m0\u001b[39m, \u001b[39m1\u001b[39m, \u001b[39m2\u001b[39m}:\n\u001b[1;32m    276\u001b[0m     \u001b[39mraise\u001b[39;00m \u001b[39mValueError\u001b[39;00m(\n\u001b[1;32m    277\u001b[0m         \u001b[39mf\u001b[39m\u001b[39m\"\u001b[39m\u001b[39mIPython won\u001b[39m\u001b[39m'\u001b[39m\u001b[39mt let you open fd=\u001b[39m\u001b[39m{\u001b[39;00mfile\u001b[39m}\u001b[39;00m\u001b[39m by default \u001b[39m\u001b[39m\"\u001b[39m\n\u001b[1;32m    278\u001b[0m         \u001b[39m\"\u001b[39m\u001b[39mas it is likely to crash IPython. If you know what you are doing, \u001b[39m\u001b[39m\"\u001b[39m\n\u001b[1;32m    279\u001b[0m         \u001b[39m\"\u001b[39m\u001b[39myou can use builtins\u001b[39m\u001b[39m'\u001b[39m\u001b[39m open.\u001b[39m\u001b[39m\"\u001b[39m\n\u001b[1;32m    280\u001b[0m     )\n\u001b[0;32m--> 282\u001b[0m \u001b[39mreturn\u001b[39;00m io_open(file, \u001b[39m*\u001b[39;49margs, \u001b[39m*\u001b[39;49m\u001b[39m*\u001b[39;49mkwargs)\n",
      "\u001b[0;31mFileNotFoundError\u001b[0m: [Errno 2] No such file or directory: 'D:\\\\GraduteThesis_Master\\\\EXP_DATA\\\\CO\\\\1\\\\data.json'"
     ]
    }
   ],
   "source": [
    "import json\n",
    "CO_NUMS = list(range(1, 18))\n",
    "EX_NUMS = list(range(1, 15))\n",
    "co_datas = []\n",
    "ex_datas = []\n",
    "for name in CO_NUMS:\n",
    "    with open('./CO/' + str(name) + '/data.json', 'r') as json_file:\n",
    "        data = json.load(json_file)\n",
    "    co_datas.append(data)\n",
    "for name in EX_NUMS:\n",
    "    with open('./EX/' + str(name) + '/data.json', 'r') as json_file:\n",
    "        data = json.load(json_file)\n",
    "    ex_datas.append(data)\n"
   ]
  },
  {
   "cell_type": "code",
   "execution_count": 2,
   "id": "10bf8564-f993-42e3-86c9-cd2c24ada237",
   "metadata": {},
   "outputs": [
    {
     "name": "stdout",
     "output_type": "stream",
     "text": [
      "2.5294117647058822\n",
      "3.7142857142857144\n"
     ]
    }
   ],
   "source": [
    "import numpy as np\n",
    "co_familiar = []\n",
    "ex_familiar = []\n",
    "for item in co_datas:\n",
    "    co_familiar.append(item['post'][0])\n",
    "for item in ex_datas:\n",
    "    ex_familiar.append(item['post'][0])\n",
    "print(np.mean(co_familiar))\n",
    "print(np.mean(ex_familiar))"
   ]
  },
  {
   "cell_type": "code",
   "execution_count": 3,
   "id": "7caed5da-192f-4e17-b349-34cd8330341d",
   "metadata": {},
   "outputs": [
    {
     "name": "stdout",
     "output_type": "stream",
     "text": [
      "Levene's Test:\n",
      "Test Statistic: 0.8368213243441477\n",
      "P-value: 0.3678514256501815\n",
      "\n",
      "Bartlett's Test:\n",
      "Test Statistic: 0.7341150610838801\n",
      "P-value: 0.3915525803155623\n"
     ]
    }
   ],
   "source": [
    "import numpy as np\n",
    "from scipy.stats import levene, bartlett\n",
    "\n",
    "# 假设你有多个样本组，存储在 sample1, sample2, sample3 等数组中\n",
    "\n",
    "# 进行方差齐性检验\n",
    "# 使用 Levene's test\n",
    "levene_test_statistic, levene_p_value = levene(co_familiar, ex_familiar)\n",
    "\n",
    "# 使用 Bartlett's test\n",
    "bartlett_test_statistic, bartlett_p_value = bartlett(co_familiar, ex_familiar)\n",
    "\n",
    "# 打印检验结果\n",
    "print(\"Levene's Test:\")\n",
    "print(f\"Test Statistic: {levene_test_statistic}\")\n",
    "print(f\"P-value: {levene_p_value}\")\n",
    "print()\n",
    "\n",
    "print(\"Bartlett's Test:\")\n",
    "print(f\"Test Statistic: {bartlett_test_statistic}\")\n",
    "print(f\"P-value: {bartlett_p_value}\")"
   ]
  },
  {
   "cell_type": "code",
   "execution_count": 4,
   "id": "51359aad-6f33-4767-b525-17823f503e02",
   "metadata": {},
   "outputs": [
    {
     "name": "stdout",
     "output_type": "stream",
     "text": [
      "Mann-Whitney U Test:\n",
      "Test Statistic: 78.5\n",
      "P-value: 0.10437023619972746\n",
      "不存在显著差异\n"
     ]
    }
   ],
   "source": [
    "from scipy.stats import mannwhitneyu\n",
    "\n",
    "# 假设你有两个独立的样本组，存储在 sample1 和 sample2 中\n",
    "\n",
    "# 执行 Mann-Whitney U 检验\n",
    "statistic, p_value = mannwhitneyu(co_familiar, ex_familiar, alternative='two-sided')\n",
    "\n",
    "# 打印检验结果\n",
    "print(\"Mann-Whitney U Test:\")\n",
    "print(f\"Test Statistic: {statistic}\")\n",
    "print(f\"P-value: {p_value}\")\n",
    "\n",
    "# 根据 P 值判断是否存在显著差异\n",
    "alpha = 0.05  # 显著性水平\n",
    "if p_value < alpha:\n",
    "    print(\"存在显著差异\")\n",
    "else:\n",
    "    print(\"不存在显著差异\")"
   ]
  },
  {
   "cell_type": "code",
   "execution_count": null,
   "id": "9157492c-b7a1-4b83-8c95-fc289b3e7e17",
   "metadata": {},
   "outputs": [],
   "source": []
  }
 ],
 "metadata": {
  "kernelspec": {
   "display_name": "Python 3",
   "language": "python",
   "name": "python3"
  },
  "language_info": {
   "codemirror_mode": {
    "name": "ipython",
    "version": 3
   },
   "file_extension": ".py",
   "mimetype": "text/x-python",
   "name": "python",
   "nbconvert_exporter": "python",
   "pygments_lexer": "ipython3",
   "version": "3.9.15"
  }
 },
 "nbformat": 4,
 "nbformat_minor": 5
}
