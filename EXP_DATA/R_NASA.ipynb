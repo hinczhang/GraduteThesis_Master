{
 "cells": [
  {
   "cell_type": "code",
   "execution_count": 2,
   "id": "521cf69d-c59c-4f19-a6ef-787eb42b4de8",
   "metadata": {},
   "outputs": [
    {
     "ename": "ERROR",
     "evalue": "Error in library(ggpubr): there is no package called ‘ggpubr’\n",
     "output_type": "error",
     "traceback": [
      "Error in library(ggpubr): there is no package called ‘ggpubr’\nTraceback:\n",
      "1. library(ggpubr)"
     ]
    }
   ],
   "source": [
    "library(readr)\n",
    "library(ggpubr)\n",
    "library(ggplot2)\n",
    "library(ggsignif)\n",
    "library(car)\n",
    "library(rstatix)\n",
    "library(ggprism)\n",
    "library(gtools)\n",
    "library(wesanderson)\n",
    "library(colorspace)\n",
    "library(stringr)"
   ]
  },
  {
   "cell_type": "code",
   "execution_count": null,
   "id": "fb08cd83-9c63-4222-bdf9-ac739a955240",
   "metadata": {},
   "outputs": [],
   "source": []
  }
 ],
 "metadata": {
  "kernelspec": {
   "display_name": "R",
   "language": "R",
   "name": "ir"
  },
  "language_info": {
   "codemirror_mode": "r",
   "file_extension": ".r",
   "mimetype": "text/x-r-source",
   "name": "R",
   "pygments_lexer": "r",
   "version": "4.0.4"
  }
 },
 "nbformat": 4,
 "nbformat_minor": 5
}
